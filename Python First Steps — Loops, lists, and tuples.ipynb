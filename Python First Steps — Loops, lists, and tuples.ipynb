{
 "cells": [
  {
   "cell_type": "markdown",
   "metadata": {},
   "source": [
    "# Welcome!\n",
    "\n",
    "## Today's agenda:\n",
    "\n",
    "1. Recap of Python basics (variables, strings, and integers)\n",
    "2. `for` loops on strings\n",
    "3. `for` loops and range\n",
    "4. `while` loops\n",
    "5. Where are the indexes?\n",
    "6. Lists\n",
    "7. Mutable vs. immutable\n",
    "8. Strings into lists (and back)\n",
    "9. Tuples"
   ]
  },
  {
   "cell_type": "code",
   "execution_count": null,
   "metadata": {},
   "outputs": [],
   "source": []
  }
 ],
 "metadata": {
  "kernelspec": {
   "display_name": "Python 3",
   "language": "python",
   "name": "python3"
  },
  "language_info": {
   "codemirror_mode": {
    "name": "ipython",
    "version": 3
   },
   "file_extension": ".py",
   "mimetype": "text/x-python",
   "name": "python",
   "nbconvert_exporter": "python",
   "pygments_lexer": "ipython3",
   "version": "3.9.2"
  }
 },
 "nbformat": 4,
 "nbformat_minor": 4
}
